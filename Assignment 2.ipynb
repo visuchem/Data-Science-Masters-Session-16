{
 "cells": [
  {
   "cell_type": "code",
   "execution_count": 2,
   "metadata": {},
   "outputs": [
    {
     "data": {
      "text/plain": [
       "0      3\n",
       "1     21\n",
       "2     98\n",
       "3    203\n",
       "4     17\n",
       "5      9\n",
       "Name: Tree height(in ft), dtype: int64"
      ]
     },
     "execution_count": 2,
     "metadata": {},
     "output_type": "execute_result"
    }
   ],
   "source": [
    "# Problem Statement 1:\n",
    "# Find the variance for the following set of data representing trees in California (heights in feet):\n",
    "# 3, 21, 98, 203, 17, 9\n",
    "\n",
    "import numpy as np\n",
    "import pandas as pd\n",
    "tree_ht_data = pd.Series(data=[3, 21, 98, 203, 17, 9],name=\"Tree height(in ft)\")\n",
    "tree_ht_data"
   ]
  },
  {
   "cell_type": "code",
   "execution_count": 3,
   "metadata": {},
   "outputs": [
    {
     "name": "stdout",
     "output_type": "stream",
     "text": [
      "The variance is:   6219.9 ft-square\n"
     ]
    }
   ],
   "source": [
    "# Calculating the variance of the height of the trees (in feet)\n",
    "tree_ht_var = tree_ht_data.var()\n",
    "print(\"The variance is:  \", np.around(tree_ht_var,2),\"ft-square\")"
   ]
  },
  {
   "cell_type": "code",
   "execution_count": null,
   "metadata": {},
   "outputs": [],
   "source": []
  }
 ],
 "metadata": {
  "kernelspec": {
   "display_name": "Python 3",
   "language": "python",
   "name": "python3"
  },
  "language_info": {
   "codemirror_mode": {
    "name": "ipython",
    "version": 3
   },
   "file_extension": ".py",
   "mimetype": "text/x-python",
   "name": "python",
   "nbconvert_exporter": "python",
   "pygments_lexer": "ipython3",
   "version": "3.6.4"
  }
 },
 "nbformat": 4,
 "nbformat_minor": 2
}
