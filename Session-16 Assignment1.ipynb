{
 "cells": [
  {
   "cell_type": "code",
   "execution_count": 1,
   "metadata": {},
   "outputs": [
    {
     "data": {
      "text/plain": [
       "0    1550\n",
       "1    1700\n",
       "2     900\n",
       "3     850\n",
       "4    1000\n",
       "5     950\n",
       "Name: Rent(in $), dtype: int64"
      ]
     },
     "execution_count": 1,
     "metadata": {},
     "output_type": "execute_result"
    }
   ],
   "source": [
    "# Problem Statement 1:\n",
    "# You survey households in your area to find the average rent they are paying. Find the standard deviation from the following\n",
    "# data: $1550, $1700, $900, $850, $1000, $950.\n",
    "import numpy as np\n",
    "import pandas as pd\n",
    "rent_data = pd.Series(data= [1550, 1700, 900, 850, 1000, 950], name = \"Rent(in $)\")\n",
    "rent_data"
   ]
  },
  {
   "cell_type": "code",
   "execution_count": 2,
   "metadata": {},
   "outputs": [
    {
     "name": "stdout",
     "output_type": "stream",
     "text": [
      "Average rent is: $ 1158.33\n"
     ]
    }
   ],
   "source": [
    "# Calculating Average Rent\n",
    "rent_avg = rent_data.mean()\n",
    "print(\"Average rent is: $\", np.around(rent_avg,2))"
   ]
  },
  {
   "cell_type": "code",
   "execution_count": 3,
   "metadata": {},
   "outputs": [
    {
     "name": "stdout",
     "output_type": "stream",
     "text": [
      "Standard Deviation for the rent is: $ 367.99\n"
     ]
    }
   ],
   "source": [
    "# Calculating Standard Deviation for the Rent data\n",
    "rent_std_dev = rent_data.std()\n",
    "print(\"Standard Deviation for the rent is: $\", np.around(rent_std_dev,2))"
   ]
  },
  {
   "cell_type": "code",
   "execution_count": null,
   "metadata": {},
   "outputs": [],
   "source": []
  }
 ],
 "metadata": {
  "kernelspec": {
   "display_name": "Python 3",
   "language": "python",
   "name": "python3"
  },
  "language_info": {
   "codemirror_mode": {
    "name": "ipython",
    "version": 3
   },
   "file_extension": ".py",
   "mimetype": "text/x-python",
   "name": "python",
   "nbconvert_exporter": "python",
   "pygments_lexer": "ipython3",
   "version": "3.6.4"
  }
 },
 "nbformat": 4,
 "nbformat_minor": 2
}
